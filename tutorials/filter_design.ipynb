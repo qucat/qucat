{
 "cells": [
  {
   "cell_type": "code",
   "execution_count": 1,
   "metadata": {
    "ExecuteTime": {
     "end_time": "2019-08-27T13:42:34.045300Z",
     "start_time": "2019-08-27T13:42:32.998300Z"
    }
   },
   "outputs": [],
   "source": [
    "import numpy as np\n",
    "import matplotlib.pyplot as plt\n",
    "from qucat import GUI"
   ]
  },
  {
   "cell_type": "markdown",
   "metadata": {},
   "source": [
    "# Designing a classical microwave filter"
   ]
  },
  {
   "cell_type": "markdown",
   "metadata": {},
   "source": [
    "In this application we show how QuCAT can be used to design classical microwave components. \n",
    "We study here a band pass filter made from two LC oscillators with the inductor inline and a capacitive shunt to ground.\n",
    "we are interested in the loss rate of a LC resonator connected through this filter to a 50 $\\Omega$ load, which could emulate a typical microwave transmission line.\n",
    "\n",
    "![alt text](graphics/filter_circuit.png \"\")\n",
    "\n",
    "We start by opening the GUI and building this circuit."
   ]
  },
  {
   "cell_type": "code",
   "execution_count": 2,
   "metadata": {
    "ExecuteTime": {
     "end_time": "2019-08-27T13:43:11.600300Z",
     "start_time": "2019-08-27T13:42:35.101300Z"
    }
   },
   "outputs": [
    {
     "data": {
      "image/png": "[encoded data removed]",
      "text/plain": [
       "<Figure size 600x177.48 with 1 Axes>"
      ]
     },
     "metadata": {
      "needs_background": "light"
     },
     "output_type": "display_data"
    }
   ],
   "source": [
    "# Build circuit\n",
    "filtered_cavity = GUI('circuits/filtered_cavity.txt', # location of the circuit file\n",
    "        edit=True, # open the GUI to edit the circuit\n",
    "        plot=True, # plot the circuit after having edited it\n",
    "        print_network=False) # print the network"
   ]
  },
  {
   "cell_type": "markdown",
   "metadata": {},
   "source": [
    "Since the values of $C$ and $L$ were not specified in the construction of the circuit, their values have to be passed as keyword arguments in subsequent functions."
   ]
  },
  {
   "cell_type": "markdown",
   "metadata": {},
   "source": [
    "To get an initial idea of the different modes of the circuit, let us display their resonance frequencies and dissipation rates for a 0.3uH inductance and 1pF capacitance."
   ]
  },
  {
   "cell_type": "code",
   "execution_count": 10,
   "metadata": {
    "ExecuteTime": {
     "end_time": "2019-08-27T13:47:28.838700Z",
     "start_time": "2019-08-27T13:47:28.809700Z"
    }
   },
   "outputs": [
    {
     "name": "stdout",
     "output_type": "stream",
     "text": [
      "         mode |       freq.  |       diss.  |       anha.  |\n",
      "            0 |      173 MHz |     18.8 MHz |          0Hz |\n",
      "            1 |      464 MHz |     7.76 MHz |          0Hz |\n",
      "            2 |     5.28 GHz |     68.2 mHz |          0Hz |\n",
      "\n",
      "Kerr coefficients (diagonal = Kerr, off-diagonal = cross-Kerr)\n",
      "         mode |         0    |         1    |         2    |\n",
      "            0 |          0Hz |              |              |\n",
      "            1 |          0Hz |          0Hz |              |\n",
      "            2 |          0Hz |          0Hz |          0Hz |\n",
      "\n"
     ]
    }
   ],
   "source": [
    "f,k,A,chi = filtered_cavity.f_k_A_chi(pretty_print=True, L = 0.3e-6, C = 1e-12)"
   ]
  },
  {
   "cell_type": "markdown",
   "metadata": {},
   "source": [
    "Since the filter capacitance and inductance is large relative to the capacitance and inductance of the resonator, the two modes associated with the filter will have a much lower frequency, and very high dissipation rates. \n",
    "\n",
    "We can thus access the loss rate of the resonator by always selecting the last element of the array of loss rates returned by the function `loss_rates`"
   ]
  },
  {
   "cell_type": "code",
   "execution_count": 3,
   "metadata": {
    "ExecuteTime": {
     "end_time": "2019-08-23T14:36:23.660400Z",
     "start_time": "2019-08-23T14:36:16.708400Z"
    },
    "scrolled": true
   },
   "outputs": [
    {
     "name": "stderr",
     "output_type": "stream",
     "text": [
      "C:\\Anaconda3\\lib\\site-packages\\qucat\\core.py:2499: RuntimeWarning: invalid value encountered in sqrt\n",
      "  return np.sqrt(hbar/np.real(z)/np.imag(dY(z,**kwargs)))\n"
     ]
    }
   ],
   "source": [
    "# The resonance modes of the filter\n",
    "# have a very low quality factors, which make \n",
    "# them inadequate for quantization\n",
    "# by default QuCAT will discard these modes\n",
    "# and notify the user with a warning, here \n",
    "# we disactivate these warnings\n",
    "filtered_cavity.warn_discarded_mode = False\n",
    "\n",
    "# Build a list of inductances and capacitances\n",
    "points = 31\n",
    "C_list = np.logspace(-13.5,-11.8,points)\n",
    "L_list = np.logspace(-8.5,-6.8,points)\n",
    "\n",
    "# Initialize an array to store the resonator loss rates\n",
    "k = np.zeros((points,points))\n",
    "\n",
    "# Sweep over capacitances and inductances\n",
    "for i,capacitance in enumerate(C_list):\n",
    "    for j,inductance in enumerate(L_list):\n",
    "        # Calculate loss rates (for all modes)\n",
    "        k_all_modes = filtered_cavity.loss_rates(\n",
    "                    C = capacitance, \n",
    "                    L = inductance)\n",
    "        # Store the resonator loss rate\n",
    "        k[i,j] = k_all_modes[-1]"
   ]
  },
  {
   "cell_type": "markdown",
   "metadata": {},
   "source": [
    "The obtained dissipation rates are plotted below"
   ]
  },
  {
   "cell_type": "code",
   "execution_count": 4,
   "metadata": {
    "ExecuteTime": {
     "end_time": "2019-08-23T14:36:24.878400Z",
     "start_time": "2019-08-23T14:36:23.663400Z"
    }
   },
   "outputs": [
    {
     "data": {
      "image/png": "[encoded data removed]",
      "text/plain": [
       "<Figure size 432x288 with 2 Axes>"
      ]
     },
     "metadata": {
      "needs_background": "light"
     },
     "output_type": "display_data"
    }
   ],
   "source": [
    "plt.pcolor(C_list,L_list,k)\n",
    "cbar = plt.colorbar()\n",
    "plt.xscale('log')\n",
    "plt.yscale('log')"
   ]
  }
 ],
 "metadata": {
  "kernelspec": {
   "display_name": "Python 3",
   "language": "python",
   "name": "python3"
  },
  "language_info": {
   "codemirror_mode": {
    "name": "ipython",
    "version": 3
   },
   "file_extension": ".py",
   "mimetype": "text/x-python",
   "name": "python",
   "nbconvert_exporter": "python",
   "pygments_lexer": "ipython3",
   "version": "3.7.3"
  },
  "toc": {
   "base_numbering": 1,
   "nav_menu": {},
   "number_sections": true,
   "sideBar": true,
   "skip_h1_title": false,
   "title_cell": "Table of Contents",
   "title_sidebar": "Contents",
   "toc_cell": false,
   "toc_position": {},
   "toc_section_display": true,
   "toc_window_display": false
  }
 },
 "nbformat": 4,
 "nbformat_minor": 2
}
